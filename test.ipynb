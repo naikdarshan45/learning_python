{
 "cells": [
  {
   "cell_type": "code",
   "execution_count": 1,
   "metadata": {},
   "outputs": [
    {
     "data": {
      "text/plain": [
       "2"
      ]
     },
     "execution_count": 1,
     "metadata": {},
     "output_type": "execute_result"
    }
   ],
   "source": [
    "1+1"
   ]
  },
  {
   "cell_type": "code",
   "execution_count": 2,
   "metadata": {},
   "outputs": [
    {
     "name": "stdout",
     "output_type": "stream",
     "text": [
      "hello\n"
     ]
    }
   ],
   "source": [
    "print(\"hello\")"
   ]
  },
  {
   "cell_type": "code",
   "execution_count": 1,
   "metadata": {},
   "outputs": [
    {
     "name": "stdout",
     "output_type": "stream",
     "text": [
      "d\n",
      "a\n",
      "r\n",
      "s\n",
      "h\n",
      "a\n",
      "n\n",
      " \n",
      "n\n",
      "a\n",
      "i\n",
      "k\n"
     ]
    }
   ],
   "source": [
    "str=\"darshan naik\"\n",
    "for i in str:\n",
    "    print(i)"
   ]
  },
  {
   "cell_type": "code",
   "execution_count": 1,
   "metadata": {},
   "outputs": [
    {
     "name": "stdout",
     "output_type": "stream",
     "text": [
      "0 banana\n",
      "1 apple\n",
      "2 mango\n",
      "3 cherry\n"
     ]
    }
   ],
   "source": [
    "fruits=[\"banana\", \"apple\",\"mango\", \"cherry\"]\n",
    "for index,item in enumerate(fruits):\n",
    "    print(index,item)"
   ]
  },
  {
   "cell_type": "code",
   "execution_count": 3,
   "metadata": {},
   "outputs": [
    {
     "data": {
      "text/plain": [
       "[0, 1, 4, 9, 16, 25, 36, 49, 64, 81]"
      ]
     },
     "execution_count": 3,
     "metadata": {},
     "output_type": "execute_result"
    }
   ],
   "source": [
    "[x**2 for x in range(10)]"
   ]
  },
  {
   "cell_type": "code",
   "execution_count": 6,
   "metadata": {},
   "outputs": [
    {
     "name": "stdout",
     "output_type": "stream",
     "text": [
      "[0, 2, 4, 6, 8]\n"
     ]
    }
   ],
   "source": [
    "lst=[num for num in range(10) if num%2==0]\n",
    "print(lst)"
   ]
  },
  {
   "cell_type": "code",
   "execution_count": 35,
   "metadata": {},
   "outputs": [
    {
     "name": "stdout",
     "output_type": "stream",
     "text": [
      "***   ***   ***   "
     ]
    }
   ],
   "source": [
    "a=3\n",
    "\n",
    "for i in range(3):\n",
    "    for j in range(3):\n",
    "        print('*'*n, end=\"\")\n",
    "    print(\"  \", end=\" \")\n",
    "\n",
    "    "
   ]
  },
  {
   "cell_type": "code",
   "execution_count": 66,
   "metadata": {},
   "outputs": [
    {
     "ename": "SyntaxError",
     "evalue": "f-string: expecting '}' (1314220678.py, line 3)",
     "output_type": "error",
     "traceback": [
      "\u001b[1;36m  Cell \u001b[1;32mIn[67], line 3\u001b[1;36m\u001b[0m\n\u001b[1;33m    print(f'*{' '*n}*')\u001b[0m\n\u001b[1;37m                      ^\u001b[0m\n\u001b[1;31mSyntaxError\u001b[0m\u001b[1;31m:\u001b[0m f-string: expecting '}'\n"
     ]
    }
   ],
   "source": [
    "n=3\n",
    "s=[]\n",
    "print(f'*{' '*n}*')"
   ]
  },
  {
   "cell_type": "code",
   "execution_count": 17,
   "metadata": {},
   "outputs": [
    {
     "name": "stdout",
     "output_type": "stream",
     "text": [
      "['*****', '*   *', '*   *', '*   *', '*   *', '*   *', '*   *', '*   *', '*   *', '*   *', '*****']\n"
     ]
    }
   ],
   "source": [
    "a=5\n",
    "s=[]\n",
    "r=a-2\n",
    "for i in range(a):\n",
    "    \n",
    "    if i>=1 and i<a-1:\n",
    "        for i in range(r):\n",
    "            s.append(f\"*{' '*r}*\")\n",
    "    else:\n",
    "        s.append('*'*a)\n",
    "\n",
    "print(s)"
   ]
  },
  {
   "cell_type": "code",
   "execution_count": 146,
   "metadata": {},
   "outputs": [
    {
     "name": "stdout",
     "output_type": "stream",
     "text": [
      "['*', '***', '*****', '*', '***', '*****']\n"
     ]
    }
   ],
   "source": [
    "n=3\n",
    "s=[]\n",
    "\n",
    "for i in range(n,1,-1):\n",
    "    \n",
    "    for j in range(1,2*n,2):\n",
    "      s.append(f\"*\"*j)\n",
    "print(s)\n"
   ]
  },
  {
   "cell_type": "code",
   "execution_count": 5,
   "metadata": {},
   "outputs": [
    {
     "name": "stdout",
     "output_type": "stream",
     "text": [
      "['  *  ', ' *** ', '*****']\n"
     ]
    }
   ],
   "source": [
    "rows = 3 \n",
    "pattern = []\n",
    "\n",
    "for i in range(1, rows + 1):\n",
    "  \n",
    "    line = ' ' * (rows - i) + '*' * (2 * i - 1)+' ' * (rows - i) \n",
    "    pattern.append(line)\n",
    "\n",
    "print(pattern)"
   ]
  },
  {
   "cell_type": "code",
   "execution_count": 38,
   "metadata": {},
   "outputs": [
    {
     "name": "stdout",
     "output_type": "stream",
     "text": [
      "['*********', ' ******* ', '  *****  ', '   ***   ', '    *    ']\n"
     ]
    }
   ],
   "source": [
    "rows = 5\n",
    "pattern = []\n",
    "k=1\n",
    "for i in range(1, rows+1):\n",
    "\n",
    "  \n",
    "    line = ' ' * (i-1) + '*'*(2*rows-k)+' ' * (i-1) \n",
    "    pattern.append(line)\n",
    "    k+=2\n",
    "\n",
    "print(pattern)"
   ]
  },
  {
   "cell_type": "code",
   "execution_count": 77,
   "metadata": {},
   "outputs": [
    {
     "name": "stdout",
     "output_type": "stream",
     "text": [
      "['1', '22', '333', '4444', '55555']\n"
     ]
    }
   ],
   "source": [
    "def generate_pattern(n):\n",
    "    return [str(i)*i for i in range(1, n + 1)]\n",
    "\n",
    "input_number = 5\n",
    "output_list = generate_pattern(input_number)\n",
    "print(output_list)\n",
    "\n"
   ]
  },
  {
   "cell_type": "code",
   "execution_count": 87,
   "metadata": {},
   "outputs": [
    {
     "name": "stdout",
     "output_type": "stream",
     "text": [
      "[2, 3, 4, 5, 6]\n"
     ]
    }
   ],
   "source": [
    "def generate_pattern(n):\n",
    "    for i in range(1, n + 1):\n",
    "        # fjrijgitjhjijhtjij\n",
    "        line=i+1\n",
    "        num.append(line)\n",
    "    return num\n",
    "num=[]\n",
    "input_number = 5\n",
    "output_list = generate_pattern(input_number)\n",
    "print(output_list)"
   ]
  },
  {
   "cell_type": "code",
   "execution_count": 88,
   "metadata": {},
   "outputs": [
    {
     "name": "stdout",
     "output_type": "stream",
     "text": [
      "['1', '2 3', '4 5 6', '7 8 9 10', '11 12 13 14 15']\n"
     ]
    }
   ],
   "source": [
    "def generate_pattern(n):\n",
    "    result = []\n",
    "    num = 1\n",
    "    for i in range(1, n + 1):\n",
    "        row = ' '.join(str(num + j) for j in range(i))\n",
    "        result.append(row)\n",
    "        num += i\n",
    "    return result\n",
    "\n",
    "input_number = 5\n",
    "output_list = generate_pattern(input_number)\n",
    "print(output_list)\n"
   ]
  }
 ],
 "metadata": {
  "kernelspec": {
   "display_name": ".venv",
   "language": "python",
   "name": "python3"
  },
  "language_info": {
   "codemirror_mode": {
    "name": "ipython",
    "version": 3
   },
   "file_extension": ".py",
   "mimetype": "text/x-python",
   "name": "python",
   "nbconvert_exporter": "python",
   "pygments_lexer": "ipython3",
   "version": "3.11.4"
  }
 },
 "nbformat": 4,
 "nbformat_minor": 2
}
